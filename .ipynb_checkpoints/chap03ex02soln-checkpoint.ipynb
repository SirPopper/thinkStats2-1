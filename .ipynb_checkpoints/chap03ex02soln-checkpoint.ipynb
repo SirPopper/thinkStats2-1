{
 "cells": [
  {
   "cell_type": "markdown",
   "metadata": {},
   "source": [
    "# Exercise 3.2: Solution"
   ]
  },
  {
   "cell_type": "markdown",
   "metadata": {},
   "source": [
    "Exercise from Think Stats, 2nd Edition (thinkstats2.com)<br>\n",
    "Allen Downey"
   ]
  },
  {
   "cell_type": "markdown",
   "metadata": {},
   "source": [
    "In Section [2.7](chap02.ipynb) we computed the mean of a sample by adding up the elements and dividing by n. If you are given a PMF, you can still compute the mean, but the process is slightly different:\n",
    "\n",
    "$$\\bar{x}=\\sum{p_{i}}{x_{i}}$$\n",
    "\n",
    "where the xi are the unique values in the PMF and pi = PMF(xi). \n",
    "\n",
    "Similarly, you can compute variance like this:\n",
    "\n",
    "\n",
    "$$S^2=\\sum_i{p_{i}}(x_{i}-\\bar{x})^2$$\n",
    "\n",
    "Write functions called PmfMean and PmfVar that take a Pmf object and compute the mean and variance."
   ]
  },
  {
   "cell_type": "code",
   "execution_count": 7,
   "metadata": {
    "collapsed": true
   },
   "outputs": [],
   "source": [
    "def PmfMean(pmf):\n",
    "    mean = 0.0\n",
    "    for x, p in pmf.Items():\n",
    "        mean += x*p\n",
    "    return mean"
   ]
  },
  {
   "cell_type": "code",
   "execution_count": 11,
   "metadata": {
    "collapsed": true
   },
   "outputs": [],
   "source": [
    "# if the user did not input the mean - compute it\n",
    "def PmfVar(pmf, mean=None):\n",
    "    var = 0\n",
    "    if mean == None:\n",
    "        mean = PmfMean(pmf)\n",
    "    for x, p in pmf.Items():\n",
    "        var += p * ( x - mean ) ** 2\n",
    "    return var"
   ]
  },
  {
   "cell_type": "markdown",
   "metadata": {},
   "source": [
    "To test these methods, check that they are consistent with the methods Mean and Var provided by Pmf. You can see those methods in the file thinkstats2."
   ]
  },
  {
   "cell_type": "code",
   "execution_count": 10,
   "metadata": {
    "collapsed": true
   },
   "outputs": [],
   "source": [
    "%load thinkstats2"
   ]
  },
  {
   "cell_type": "code",
   "execution_count": null,
   "metadata": {
    "collapsed": true
   },
   "outputs": [],
   "source": []
  }
 ],
 "metadata": {
  "kernelspec": {
   "display_name": "Python 2",
   "language": "python",
   "name": "python2"
  },
  "language_info": {
   "codemirror_mode": {
    "name": "ipython",
    "version": 2
   },
   "file_extension": ".py",
   "mimetype": "text/x-python",
   "name": "python",
   "nbconvert_exporter": "python",
   "pygments_lexer": "ipython2",
   "version": "2.7.11"
  }
 },
 "nbformat": 4,
 "nbformat_minor": 0
}
